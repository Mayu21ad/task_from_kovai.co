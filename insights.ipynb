{
 "cells": [
  {
   "cell_type": "code",
   "execution_count": 46,
   "metadata": {},
   "outputs": [],
   "source": [
    "import numpy as np\n",
    "import pandas as pd\n",
    "import matplotlib.pyplot as plt\n",
    "import seaborn as sns"
   ]
  },
  {
   "cell_type": "code",
   "execution_count": 47,
   "metadata": {},
   "outputs": [],
   "source": [
    "df = pd.read_csv(r'C:\\Users\\HP\\Desktop\\kovai_co\\Daily_Public_Transport_Passenger_Journeys_by_Service_Type_20241128.csv')"
   ]
  },
  {
   "cell_type": "code",
   "execution_count": 48,
   "metadata": {},
   "outputs": [
    {
     "data": {
      "text/html": [
       "<div>\n",
       "<style scoped>\n",
       "    .dataframe tbody tr th:only-of-type {\n",
       "        vertical-align: middle;\n",
       "    }\n",
       "\n",
       "    .dataframe tbody tr th {\n",
       "        vertical-align: top;\n",
       "    }\n",
       "\n",
       "    .dataframe thead th {\n",
       "        text-align: right;\n",
       "    }\n",
       "</style>\n",
       "<table border=\"1\" class=\"dataframe\">\n",
       "  <thead>\n",
       "    <tr style=\"text-align: right;\">\n",
       "      <th></th>\n",
       "      <th>Date</th>\n",
       "      <th>Local Route</th>\n",
       "      <th>Light Rail</th>\n",
       "      <th>Peak Service</th>\n",
       "      <th>Rapid Route</th>\n",
       "      <th>School</th>\n",
       "      <th>Other</th>\n",
       "    </tr>\n",
       "  </thead>\n",
       "  <tbody>\n",
       "    <tr>\n",
       "      <th>0</th>\n",
       "      <td>30/08/2024</td>\n",
       "      <td>16436</td>\n",
       "      <td>10705</td>\n",
       "      <td>225</td>\n",
       "      <td>19026</td>\n",
       "      <td>3925</td>\n",
       "      <td>59.0</td>\n",
       "    </tr>\n",
       "    <tr>\n",
       "      <th>1</th>\n",
       "      <td>15/09/2023</td>\n",
       "      <td>15499</td>\n",
       "      <td>10671</td>\n",
       "      <td>267</td>\n",
       "      <td>18421</td>\n",
       "      <td>4519</td>\n",
       "      <td>61.0</td>\n",
       "    </tr>\n",
       "    <tr>\n",
       "      <th>2</th>\n",
       "      <td>28/12/2021</td>\n",
       "      <td>1756</td>\n",
       "      <td>2352</td>\n",
       "      <td>0</td>\n",
       "      <td>3775</td>\n",
       "      <td>0</td>\n",
       "      <td>13.0</td>\n",
       "    </tr>\n",
       "    <tr>\n",
       "      <th>3</th>\n",
       "      <td>11/01/2023</td>\n",
       "      <td>10536</td>\n",
       "      <td>8347</td>\n",
       "      <td>223</td>\n",
       "      <td>14072</td>\n",
       "      <td>0</td>\n",
       "      <td>48.0</td>\n",
       "    </tr>\n",
       "    <tr>\n",
       "      <th>4</th>\n",
       "      <td>11/09/2021</td>\n",
       "      <td>820</td>\n",
       "      <td>612</td>\n",
       "      <td>0</td>\n",
       "      <td>1283</td>\n",
       "      <td>0</td>\n",
       "      <td>11.0</td>\n",
       "    </tr>\n",
       "  </tbody>\n",
       "</table>\n",
       "</div>"
      ],
      "text/plain": [
       "         Date  Local Route  Light Rail  Peak Service  Rapid Route  School  \\\n",
       "0  30/08/2024        16436       10705           225        19026    3925   \n",
       "1  15/09/2023        15499       10671           267        18421    4519   \n",
       "2  28/12/2021         1756        2352             0         3775       0   \n",
       "3  11/01/2023        10536        8347           223        14072       0   \n",
       "4  11/09/2021          820         612             0         1283       0   \n",
       "\n",
       "   Other  \n",
       "0   59.0  \n",
       "1   61.0  \n",
       "2   13.0  \n",
       "3   48.0  \n",
       "4   11.0  "
      ]
     },
     "execution_count": 48,
     "metadata": {},
     "output_type": "execute_result"
    }
   ],
   "source": [
    "df.head()"
   ]
  },
  {
   "cell_type": "code",
   "execution_count": 49,
   "metadata": {},
   "outputs": [
    {
     "data": {
      "text/plain": [
       "(1918, 7)"
      ]
     },
     "execution_count": 49,
     "metadata": {},
     "output_type": "execute_result"
    }
   ],
   "source": [
    "df.shape"
   ]
  },
  {
   "cell_type": "code",
   "execution_count": 50,
   "metadata": {},
   "outputs": [
    {
     "data": {
      "text/html": [
       "<div>\n",
       "<style scoped>\n",
       "    .dataframe tbody tr th:only-of-type {\n",
       "        vertical-align: middle;\n",
       "    }\n",
       "\n",
       "    .dataframe tbody tr th {\n",
       "        vertical-align: top;\n",
       "    }\n",
       "\n",
       "    .dataframe thead th {\n",
       "        text-align: right;\n",
       "    }\n",
       "</style>\n",
       "<table border=\"1\" class=\"dataframe\">\n",
       "  <thead>\n",
       "    <tr style=\"text-align: right;\">\n",
       "      <th></th>\n",
       "      <th>Local Route</th>\n",
       "      <th>Light Rail</th>\n",
       "      <th>Peak Service</th>\n",
       "      <th>Rapid Route</th>\n",
       "      <th>School</th>\n",
       "      <th>Other</th>\n",
       "    </tr>\n",
       "  </thead>\n",
       "  <tbody>\n",
       "    <tr>\n",
       "      <th>count</th>\n",
       "      <td>1918.000000</td>\n",
       "      <td>1918.000000</td>\n",
       "      <td>1918.000000</td>\n",
       "      <td>1918.000000</td>\n",
       "      <td>1918.000000</td>\n",
       "      <td>1898.000000</td>\n",
       "    </tr>\n",
       "    <tr>\n",
       "      <th>mean</th>\n",
       "      <td>9891.395203</td>\n",
       "      <td>7195.446298</td>\n",
       "      <td>179.581335</td>\n",
       "      <td>12597.213243</td>\n",
       "      <td>2352.694995</td>\n",
       "      <td>43.390411</td>\n",
       "    </tr>\n",
       "    <tr>\n",
       "      <th>std</th>\n",
       "      <td>6120.715714</td>\n",
       "      <td>3345.616428</td>\n",
       "      <td>156.532738</td>\n",
       "      <td>6720.494557</td>\n",
       "      <td>2494.766306</td>\n",
       "      <td>41.746882</td>\n",
       "    </tr>\n",
       "    <tr>\n",
       "      <th>min</th>\n",
       "      <td>1.000000</td>\n",
       "      <td>0.000000</td>\n",
       "      <td>0.000000</td>\n",
       "      <td>0.000000</td>\n",
       "      <td>0.000000</td>\n",
       "      <td>0.000000</td>\n",
       "    </tr>\n",
       "    <tr>\n",
       "      <th>25%</th>\n",
       "      <td>3044.500000</td>\n",
       "      <td>4463.500000</td>\n",
       "      <td>0.000000</td>\n",
       "      <td>6383.000000</td>\n",
       "      <td>0.000000</td>\n",
       "      <td>14.000000</td>\n",
       "    </tr>\n",
       "    <tr>\n",
       "      <th>50%</th>\n",
       "      <td>11417.000000</td>\n",
       "      <td>7507.000000</td>\n",
       "      <td>193.000000</td>\n",
       "      <td>13106.500000</td>\n",
       "      <td>567.500000</td>\n",
       "      <td>40.000000</td>\n",
       "    </tr>\n",
       "    <tr>\n",
       "      <th>75%</th>\n",
       "      <td>15517.500000</td>\n",
       "      <td>10008.250000</td>\n",
       "      <td>313.750000</td>\n",
       "      <td>17924.750000</td>\n",
       "      <td>4914.000000</td>\n",
       "      <td>68.000000</td>\n",
       "    </tr>\n",
       "    <tr>\n",
       "      <th>max</th>\n",
       "      <td>21070.000000</td>\n",
       "      <td>15154.000000</td>\n",
       "      <td>1029.000000</td>\n",
       "      <td>28678.000000</td>\n",
       "      <td>7255.000000</td>\n",
       "      <td>1105.000000</td>\n",
       "    </tr>\n",
       "  </tbody>\n",
       "</table>\n",
       "</div>"
      ],
      "text/plain": [
       "        Local Route    Light Rail  Peak Service   Rapid Route       School  \\\n",
       "count   1918.000000   1918.000000   1918.000000   1918.000000  1918.000000   \n",
       "mean    9891.395203   7195.446298    179.581335  12597.213243  2352.694995   \n",
       "std     6120.715714   3345.616428    156.532738   6720.494557  2494.766306   \n",
       "min        1.000000      0.000000      0.000000      0.000000     0.000000   \n",
       "25%     3044.500000   4463.500000      0.000000   6383.000000     0.000000   \n",
       "50%    11417.000000   7507.000000    193.000000  13106.500000   567.500000   \n",
       "75%    15517.500000  10008.250000    313.750000  17924.750000  4914.000000   \n",
       "max    21070.000000  15154.000000   1029.000000  28678.000000  7255.000000   \n",
       "\n",
       "             Other  \n",
       "count  1898.000000  \n",
       "mean     43.390411  \n",
       "std      41.746882  \n",
       "min       0.000000  \n",
       "25%      14.000000  \n",
       "50%      40.000000  \n",
       "75%      68.000000  \n",
       "max    1105.000000  "
      ]
     },
     "execution_count": 50,
     "metadata": {},
     "output_type": "execute_result"
    }
   ],
   "source": [
    "df.describe()"
   ]
  },
  {
   "cell_type": "code",
   "execution_count": 51,
   "metadata": {},
   "outputs": [
    {
     "data": {
      "text/plain": [
       "dtype('O')"
      ]
     },
     "execution_count": 51,
     "metadata": {},
     "output_type": "execute_result"
    }
   ],
   "source": [
    "df.dtypes['Date']"
   ]
  },
  {
   "cell_type": "code",
   "execution_count": 52,
   "metadata": {},
   "outputs": [
    {
     "data": {
      "text/plain": [
       "<bound method DataFrame.info of             Date  Local Route  Light Rail  Peak Service  Rapid Route  School  \\\n",
       "0     30/08/2024        16436       10705           225        19026    3925   \n",
       "1     15/09/2023        15499       10671           267        18421    4519   \n",
       "2     28/12/2021         1756        2352             0         3775       0   \n",
       "3     11/01/2023        10536        8347           223        14072       0   \n",
       "4     11/09/2021          820         612             0         1283       0   \n",
       "...          ...          ...         ...           ...          ...     ...   \n",
       "1913  19/01/2023        11337        8671           262        14881       0   \n",
       "1914  16/08/2023        16791       11800           387        20936    4684   \n",
       "1915  10/01/2022         5732        3548            73         6644       0   \n",
       "1916  04/05/2020         3717        1952            70         4411     131   \n",
       "1917  26/07/2023        16680       11726           347        20438    4738   \n",
       "\n",
       "      Other  \n",
       "0      59.0  \n",
       "1      61.0  \n",
       "2      13.0  \n",
       "3      48.0  \n",
       "4      11.0  \n",
       "...     ...  \n",
       "1913   66.0  \n",
       "1914  113.0  \n",
       "1915   25.0  \n",
       "1916   19.0  \n",
       "1917   99.0  \n",
       "\n",
       "[1918 rows x 7 columns]>"
      ]
     },
     "execution_count": 52,
     "metadata": {},
     "output_type": "execute_result"
    }
   ],
   "source": [
    "df.info"
   ]
  },
  {
   "cell_type": "markdown",
   "metadata": {},
   "source": [
    "CHECKING DATA TYPE OF THE FEATURES"
   ]
  },
  {
   "cell_type": "code",
   "execution_count": 53,
   "metadata": {},
   "outputs": [
    {
     "data": {
      "text/plain": [
       "Date             object\n",
       "Local Route       int64\n",
       "Light Rail        int64\n",
       "Peak Service      int64\n",
       "Rapid Route       int64\n",
       "School            int64\n",
       "Other           float64\n",
       "dtype: object"
      ]
     },
     "execution_count": 53,
     "metadata": {},
     "output_type": "execute_result"
    }
   ],
   "source": [
    "df.dtypes"
   ]
  },
  {
   "cell_type": "markdown",
   "metadata": {},
   "source": [
    "CONVERTING THE DATA TYPE OF DATE COLUMN"
   ]
  },
  {
   "cell_type": "code",
   "execution_count": 54,
   "metadata": {},
   "outputs": [
    {
     "name": "stderr",
     "output_type": "stream",
     "text": [
      "C:\\Users\\HP\\AppData\\Local\\Temp\\ipykernel_13512\\2394721818.py:1: UserWarning: Parsing dates in %d/%m/%Y format when dayfirst=False (the default) was specified. Pass `dayfirst=True` or specify a format to silence this warning.\n",
      "  df['Date'] = pd.to_datetime(df['Date'])\n"
     ]
    }
   ],
   "source": [
    "df['Date'] = pd.to_datetime(df['Date'])"
   ]
  },
  {
   "cell_type": "code",
   "execution_count": 55,
   "metadata": {},
   "outputs": [
    {
     "data": {
      "text/plain": [
       "Date            datetime64[ns]\n",
       "Local Route              int64\n",
       "Light Rail               int64\n",
       "Peak Service             int64\n",
       "Rapid Route              int64\n",
       "School                   int64\n",
       "Other                  float64\n",
       "dtype: object"
      ]
     },
     "execution_count": 55,
     "metadata": {},
     "output_type": "execute_result"
    }
   ],
   "source": [
    "df.dtypes"
   ]
  },
  {
   "cell_type": "code",
   "execution_count": 66,
   "metadata": {},
   "outputs": [],
   "source": [
    "df_new = df.sort_values(by='Date', axis=0)"
   ]
  },
  {
   "cell_type": "code",
   "execution_count": 67,
   "metadata": {},
   "outputs": [
    {
     "data": {
      "text/html": [
       "<div>\n",
       "<style scoped>\n",
       "    .dataframe tbody tr th:only-of-type {\n",
       "        vertical-align: middle;\n",
       "    }\n",
       "\n",
       "    .dataframe tbody tr th {\n",
       "        vertical-align: top;\n",
       "    }\n",
       "\n",
       "    .dataframe thead th {\n",
       "        text-align: right;\n",
       "    }\n",
       "</style>\n",
       "<table border=\"1\" class=\"dataframe\">\n",
       "  <thead>\n",
       "    <tr style=\"text-align: right;\">\n",
       "      <th></th>\n",
       "      <th>Date</th>\n",
       "      <th>Local Route</th>\n",
       "      <th>Light Rail</th>\n",
       "      <th>Peak Service</th>\n",
       "      <th>Rapid Route</th>\n",
       "      <th>School</th>\n",
       "      <th>Other</th>\n",
       "    </tr>\n",
       "  </thead>\n",
       "  <tbody>\n",
       "    <tr>\n",
       "      <th>1013</th>\n",
       "      <td>2019-07-01</td>\n",
       "      <td>15987</td>\n",
       "      <td>9962</td>\n",
       "      <td>407</td>\n",
       "      <td>21223</td>\n",
       "      <td>3715</td>\n",
       "      <td>NaN</td>\n",
       "    </tr>\n",
       "    <tr>\n",
       "      <th>1120</th>\n",
       "      <td>2019-07-02</td>\n",
       "      <td>16895</td>\n",
       "      <td>10656</td>\n",
       "      <td>409</td>\n",
       "      <td>21715</td>\n",
       "      <td>3993</td>\n",
       "      <td>NaN</td>\n",
       "    </tr>\n",
       "    <tr>\n",
       "      <th>1451</th>\n",
       "      <td>2019-07-03</td>\n",
       "      <td>16613</td>\n",
       "      <td>10658</td>\n",
       "      <td>427</td>\n",
       "      <td>22025</td>\n",
       "      <td>3638</td>\n",
       "      <td>NaN</td>\n",
       "    </tr>\n",
       "    <tr>\n",
       "      <th>1171</th>\n",
       "      <td>2019-07-04</td>\n",
       "      <td>16604</td>\n",
       "      <td>10445</td>\n",
       "      <td>437</td>\n",
       "      <td>21868</td>\n",
       "      <td>3576</td>\n",
       "      <td>NaN</td>\n",
       "    </tr>\n",
       "    <tr>\n",
       "      <th>1523</th>\n",
       "      <td>2019-07-05</td>\n",
       "      <td>16040</td>\n",
       "      <td>10532</td>\n",
       "      <td>400</td>\n",
       "      <td>20697</td>\n",
       "      <td>2856</td>\n",
       "      <td>NaN</td>\n",
       "    </tr>\n",
       "  </tbody>\n",
       "</table>\n",
       "</div>"
      ],
      "text/plain": [
       "           Date  Local Route  Light Rail  Peak Service  Rapid Route  School  \\\n",
       "1013 2019-07-01        15987        9962           407        21223    3715   \n",
       "1120 2019-07-02        16895       10656           409        21715    3993   \n",
       "1451 2019-07-03        16613       10658           427        22025    3638   \n",
       "1171 2019-07-04        16604       10445           437        21868    3576   \n",
       "1523 2019-07-05        16040       10532           400        20697    2856   \n",
       "\n",
       "      Other  \n",
       "1013    NaN  \n",
       "1120    NaN  \n",
       "1451    NaN  \n",
       "1171    NaN  \n",
       "1523    NaN  "
      ]
     },
     "execution_count": 67,
     "metadata": {},
     "output_type": "execute_result"
    }
   ],
   "source": [
    "df_new.head()"
   ]
  },
  {
   "cell_type": "code",
   "execution_count": 68,
   "metadata": {},
   "outputs": [
    {
     "data": {
      "text/plain": [
       "Date            False\n",
       "Local Route     False\n",
       "Light Rail      False\n",
       "Peak Service    False\n",
       "Rapid Route     False\n",
       "School          False\n",
       "Other            True\n",
       "dtype: bool"
      ]
     },
     "execution_count": 68,
     "metadata": {},
     "output_type": "execute_result"
    }
   ],
   "source": [
    "df_new.isnull().any()"
   ]
  },
  {
   "cell_type": "code",
   "execution_count": 71,
   "metadata": {},
   "outputs": [
    {
     "name": "stderr",
     "output_type": "stream",
     "text": [
      "C:\\Users\\HP\\AppData\\Local\\Temp\\ipykernel_13512\\4065366540.py:1: FutureWarning: The 'method' keyword in DataFrame.replace is deprecated and will be removed in a future version.\n",
      "  df_new.replace(to_replace=0, method='ffill', inplace=True)\n"
     ]
    }
   ],
   "source": [
    "df_new.replace(to_replace=0, method='ffill', inplace=True)"
   ]
  },
  {
   "cell_type": "code",
   "execution_count": 72,
   "metadata": {},
   "outputs": [
    {
     "data": {
      "text/html": [
       "<div>\n",
       "<style scoped>\n",
       "    .dataframe tbody tr th:only-of-type {\n",
       "        vertical-align: middle;\n",
       "    }\n",
       "\n",
       "    .dataframe tbody tr th {\n",
       "        vertical-align: top;\n",
       "    }\n",
       "\n",
       "    .dataframe thead th {\n",
       "        text-align: right;\n",
       "    }\n",
       "</style>\n",
       "<table border=\"1\" class=\"dataframe\">\n",
       "  <thead>\n",
       "    <tr style=\"text-align: right;\">\n",
       "      <th></th>\n",
       "      <th>Date</th>\n",
       "      <th>Local Route</th>\n",
       "      <th>Light Rail</th>\n",
       "      <th>Peak Service</th>\n",
       "      <th>Rapid Route</th>\n",
       "      <th>School</th>\n",
       "      <th>Other</th>\n",
       "    </tr>\n",
       "  </thead>\n",
       "  <tbody>\n",
       "    <tr>\n",
       "      <th>1013</th>\n",
       "      <td>2019-07-01</td>\n",
       "      <td>15987</td>\n",
       "      <td>9962</td>\n",
       "      <td>407</td>\n",
       "      <td>21223</td>\n",
       "      <td>3715</td>\n",
       "      <td>20</td>\n",
       "    </tr>\n",
       "    <tr>\n",
       "      <th>1120</th>\n",
       "      <td>2019-07-02</td>\n",
       "      <td>16895</td>\n",
       "      <td>10656</td>\n",
       "      <td>409</td>\n",
       "      <td>21715</td>\n",
       "      <td>3993</td>\n",
       "      <td>20</td>\n",
       "    </tr>\n",
       "    <tr>\n",
       "      <th>1451</th>\n",
       "      <td>2019-07-03</td>\n",
       "      <td>16613</td>\n",
       "      <td>10658</td>\n",
       "      <td>427</td>\n",
       "      <td>22025</td>\n",
       "      <td>3638</td>\n",
       "      <td>20</td>\n",
       "    </tr>\n",
       "    <tr>\n",
       "      <th>1171</th>\n",
       "      <td>2019-07-04</td>\n",
       "      <td>16604</td>\n",
       "      <td>10445</td>\n",
       "      <td>437</td>\n",
       "      <td>21868</td>\n",
       "      <td>3576</td>\n",
       "      <td>20</td>\n",
       "    </tr>\n",
       "    <tr>\n",
       "      <th>1523</th>\n",
       "      <td>2019-07-05</td>\n",
       "      <td>16040</td>\n",
       "      <td>10532</td>\n",
       "      <td>400</td>\n",
       "      <td>20697</td>\n",
       "      <td>2856</td>\n",
       "      <td>20</td>\n",
       "    </tr>\n",
       "    <tr>\n",
       "      <th>...</th>\n",
       "      <td>...</td>\n",
       "      <td>...</td>\n",
       "      <td>...</td>\n",
       "      <td>...</td>\n",
       "      <td>...</td>\n",
       "      <td>...</td>\n",
       "      <td>...</td>\n",
       "    </tr>\n",
       "    <tr>\n",
       "      <th>1662</th>\n",
       "      <td>2024-09-25</td>\n",
       "      <td>21</td>\n",
       "      <td>78</td>\n",
       "      <td>1</td>\n",
       "      <td>10</td>\n",
       "      <td>8</td>\n",
       "      <td>20</td>\n",
       "    </tr>\n",
       "    <tr>\n",
       "      <th>1330</th>\n",
       "      <td>2024-09-26</td>\n",
       "      <td>9</td>\n",
       "      <td>78</td>\n",
       "      <td>1</td>\n",
       "      <td>10</td>\n",
       "      <td>2</td>\n",
       "      <td>20</td>\n",
       "    </tr>\n",
       "    <tr>\n",
       "      <th>1731</th>\n",
       "      <td>2024-09-27</td>\n",
       "      <td>6</td>\n",
       "      <td>78</td>\n",
       "      <td>1</td>\n",
       "      <td>13</td>\n",
       "      <td>2</td>\n",
       "      <td>20</td>\n",
       "    </tr>\n",
       "    <tr>\n",
       "      <th>1652</th>\n",
       "      <td>2024-09-28</td>\n",
       "      <td>1</td>\n",
       "      <td>78</td>\n",
       "      <td>1</td>\n",
       "      <td>4</td>\n",
       "      <td>2</td>\n",
       "      <td>20</td>\n",
       "    </tr>\n",
       "    <tr>\n",
       "      <th>160</th>\n",
       "      <td>2024-09-29</td>\n",
       "      <td>1</td>\n",
       "      <td>78</td>\n",
       "      <td>1</td>\n",
       "      <td>3</td>\n",
       "      <td>2</td>\n",
       "      <td>20</td>\n",
       "    </tr>\n",
       "  </tbody>\n",
       "</table>\n",
       "<p>1918 rows × 7 columns</p>\n",
       "</div>"
      ],
      "text/plain": [
       "           Date  Local Route  Light Rail  Peak Service  Rapid Route  School  \\\n",
       "1013 2019-07-01        15987        9962           407        21223    3715   \n",
       "1120 2019-07-02        16895       10656           409        21715    3993   \n",
       "1451 2019-07-03        16613       10658           427        22025    3638   \n",
       "1171 2019-07-04        16604       10445           437        21868    3576   \n",
       "1523 2019-07-05        16040       10532           400        20697    2856   \n",
       "...         ...          ...         ...           ...          ...     ...   \n",
       "1662 2024-09-25           21          78             1           10       8   \n",
       "1330 2024-09-26            9          78             1           10       2   \n",
       "1731 2024-09-27            6          78             1           13       2   \n",
       "1652 2024-09-28            1          78             1            4       2   \n",
       "160  2024-09-29            1          78             1            3       2   \n",
       "\n",
       "      Other  \n",
       "1013     20  \n",
       "1120     20  \n",
       "1451     20  \n",
       "1171     20  \n",
       "1523     20  \n",
       "...     ...  \n",
       "1662     20  \n",
       "1330     20  \n",
       "1731     20  \n",
       "1652     20  \n",
       "160      20  \n",
       "\n",
       "[1918 rows x 7 columns]"
      ]
     },
     "execution_count": 72,
     "metadata": {},
     "output_type": "execute_result"
    }
   ],
   "source": [
    "df_new"
   ]
  },
  {
   "cell_type": "code",
   "execution_count": 73,
   "metadata": {},
   "outputs": [
    {
     "name": "stderr",
     "output_type": "stream",
     "text": [
      "C:\\Users\\HP\\AppData\\Local\\Temp\\ipykernel_13512\\2710987295.py:1: PerformanceWarning: Adding/subtracting object-dtype array to DatetimeArray not vectorized.\n",
      "  df_norm = (df_new-df_new.min())/(df_new.max()-df_new.min())\n"
     ]
    },
    {
     "data": {
      "text/html": [
       "<div>\n",
       "<style scoped>\n",
       "    .dataframe tbody tr th:only-of-type {\n",
       "        vertical-align: middle;\n",
       "    }\n",
       "\n",
       "    .dataframe tbody tr th {\n",
       "        vertical-align: top;\n",
       "    }\n",
       "\n",
       "    .dataframe thead th {\n",
       "        text-align: right;\n",
       "    }\n",
       "</style>\n",
       "<table border=\"1\" class=\"dataframe\">\n",
       "  <thead>\n",
       "    <tr style=\"text-align: right;\">\n",
       "      <th></th>\n",
       "      <th>Date</th>\n",
       "      <th>Local Route</th>\n",
       "      <th>Light Rail</th>\n",
       "      <th>Peak Service</th>\n",
       "      <th>Rapid Route</th>\n",
       "      <th>School</th>\n",
       "      <th>Other</th>\n",
       "    </tr>\n",
       "  </thead>\n",
       "  <tbody>\n",
       "    <tr>\n",
       "      <th>1013</th>\n",
       "      <td>0.0</td>\n",
       "      <td>0.758745</td>\n",
       "      <td>0.655612</td>\n",
       "      <td>0.394942</td>\n",
       "      <td>0.740017</td>\n",
       "      <td>0.511993</td>\n",
       "      <td>NaN</td>\n",
       "    </tr>\n",
       "    <tr>\n",
       "      <th>1120</th>\n",
       "      <td>0.000522</td>\n",
       "      <td>0.801842</td>\n",
       "      <td>0.701645</td>\n",
       "      <td>0.396887</td>\n",
       "      <td>0.757175</td>\n",
       "      <td>0.550317</td>\n",
       "      <td>NaN</td>\n",
       "    </tr>\n",
       "    <tr>\n",
       "      <th>1451</th>\n",
       "      <td>0.001043</td>\n",
       "      <td>0.788457</td>\n",
       "      <td>0.701778</td>\n",
       "      <td>0.414397</td>\n",
       "      <td>0.767986</td>\n",
       "      <td>0.501379</td>\n",
       "      <td>NaN</td>\n",
       "    </tr>\n",
       "    <tr>\n",
       "      <th>1171</th>\n",
       "      <td>0.001565</td>\n",
       "      <td>0.78803</td>\n",
       "      <td>0.687649</td>\n",
       "      <td>0.424125</td>\n",
       "      <td>0.762511</td>\n",
       "      <td>0.492832</td>\n",
       "      <td>NaN</td>\n",
       "    </tr>\n",
       "    <tr>\n",
       "      <th>1523</th>\n",
       "      <td>0.002087</td>\n",
       "      <td>0.761261</td>\n",
       "      <td>0.69342</td>\n",
       "      <td>0.388132</td>\n",
       "      <td>0.721674</td>\n",
       "      <td>0.393576</td>\n",
       "      <td>NaN</td>\n",
       "    </tr>\n",
       "    <tr>\n",
       "      <th>...</th>\n",
       "      <td>...</td>\n",
       "      <td>...</td>\n",
       "      <td>...</td>\n",
       "      <td>...</td>\n",
       "      <td>...</td>\n",
       "      <td>...</td>\n",
       "      <td>...</td>\n",
       "    </tr>\n",
       "    <tr>\n",
       "      <th>1662</th>\n",
       "      <td>0.997913</td>\n",
       "      <td>0.000949</td>\n",
       "      <td>0.0</td>\n",
       "      <td>0.0</td>\n",
       "      <td>0.000244</td>\n",
       "      <td>0.000965</td>\n",
       "      <td>NaN</td>\n",
       "    </tr>\n",
       "    <tr>\n",
       "      <th>1330</th>\n",
       "      <td>0.998435</td>\n",
       "      <td>0.00038</td>\n",
       "      <td>0.0</td>\n",
       "      <td>0.0</td>\n",
       "      <td>0.000244</td>\n",
       "      <td>0.000138</td>\n",
       "      <td>NaN</td>\n",
       "    </tr>\n",
       "    <tr>\n",
       "      <th>1731</th>\n",
       "      <td>0.998957</td>\n",
       "      <td>0.000237</td>\n",
       "      <td>0.0</td>\n",
       "      <td>0.0</td>\n",
       "      <td>0.000349</td>\n",
       "      <td>0.000138</td>\n",
       "      <td>NaN</td>\n",
       "    </tr>\n",
       "    <tr>\n",
       "      <th>1652</th>\n",
       "      <td>0.999478</td>\n",
       "      <td>0.0</td>\n",
       "      <td>0.0</td>\n",
       "      <td>0.0</td>\n",
       "      <td>0.000035</td>\n",
       "      <td>0.000138</td>\n",
       "      <td>NaN</td>\n",
       "    </tr>\n",
       "    <tr>\n",
       "      <th>160</th>\n",
       "      <td>1.0</td>\n",
       "      <td>0.0</td>\n",
       "      <td>0.0</td>\n",
       "      <td>0.0</td>\n",
       "      <td>0.0</td>\n",
       "      <td>0.000138</td>\n",
       "      <td>NaN</td>\n",
       "    </tr>\n",
       "  </tbody>\n",
       "</table>\n",
       "<p>1918 rows × 7 columns</p>\n",
       "</div>"
      ],
      "text/plain": [
       "          Date Local Route Light Rail Peak Service Rapid Route    School Other\n",
       "1013       0.0    0.758745   0.655612     0.394942    0.740017  0.511993   NaN\n",
       "1120  0.000522    0.801842   0.701645     0.396887    0.757175  0.550317   NaN\n",
       "1451  0.001043    0.788457   0.701778     0.414397    0.767986  0.501379   NaN\n",
       "1171  0.001565     0.78803   0.687649     0.424125    0.762511  0.492832   NaN\n",
       "1523  0.002087    0.761261    0.69342     0.388132    0.721674  0.393576   NaN\n",
       "...        ...         ...        ...          ...         ...       ...   ...\n",
       "1662  0.997913    0.000949        0.0          0.0    0.000244  0.000965   NaN\n",
       "1330  0.998435     0.00038        0.0          0.0    0.000244  0.000138   NaN\n",
       "1731  0.998957    0.000237        0.0          0.0    0.000349  0.000138   NaN\n",
       "1652  0.999478         0.0        0.0          0.0    0.000035  0.000138   NaN\n",
       "160        1.0         0.0        0.0          0.0         0.0  0.000138   NaN\n",
       "\n",
       "[1918 rows x 7 columns]"
      ]
     },
     "execution_count": 73,
     "metadata": {},
     "output_type": "execute_result"
    }
   ],
   "source": [
    "df_norm = (df_new-df_new.min())/(df_new.max()-df_new.min())\n",
    "df_norm"
   ]
  },
  {
   "cell_type": "code",
   "execution_count": 79,
   "metadata": {},
   "outputs": [],
   "source": [
    "df_norm.drop('Other', axis=1, inplace=True)"
   ]
  },
  {
   "cell_type": "code",
   "execution_count": 80,
   "metadata": {},
   "outputs": [
    {
     "data": {
      "text/html": [
       "<div>\n",
       "<style scoped>\n",
       "    .dataframe tbody tr th:only-of-type {\n",
       "        vertical-align: middle;\n",
       "    }\n",
       "\n",
       "    .dataframe tbody tr th {\n",
       "        vertical-align: top;\n",
       "    }\n",
       "\n",
       "    .dataframe thead th {\n",
       "        text-align: right;\n",
       "    }\n",
       "</style>\n",
       "<table border=\"1\" class=\"dataframe\">\n",
       "  <thead>\n",
       "    <tr style=\"text-align: right;\">\n",
       "      <th></th>\n",
       "      <th>Date</th>\n",
       "      <th>Local Route</th>\n",
       "      <th>Light Rail</th>\n",
       "      <th>Peak Service</th>\n",
       "      <th>Rapid Route</th>\n",
       "      <th>School</th>\n",
       "    </tr>\n",
       "  </thead>\n",
       "  <tbody>\n",
       "    <tr>\n",
       "      <th>1013</th>\n",
       "      <td>0.0</td>\n",
       "      <td>0.758745</td>\n",
       "      <td>0.655612</td>\n",
       "      <td>0.394942</td>\n",
       "      <td>0.740017</td>\n",
       "      <td>0.511993</td>\n",
       "    </tr>\n",
       "    <tr>\n",
       "      <th>1120</th>\n",
       "      <td>0.000522</td>\n",
       "      <td>0.801842</td>\n",
       "      <td>0.701645</td>\n",
       "      <td>0.396887</td>\n",
       "      <td>0.757175</td>\n",
       "      <td>0.550317</td>\n",
       "    </tr>\n",
       "    <tr>\n",
       "      <th>1451</th>\n",
       "      <td>0.001043</td>\n",
       "      <td>0.788457</td>\n",
       "      <td>0.701778</td>\n",
       "      <td>0.414397</td>\n",
       "      <td>0.767986</td>\n",
       "      <td>0.501379</td>\n",
       "    </tr>\n",
       "    <tr>\n",
       "      <th>1171</th>\n",
       "      <td>0.001565</td>\n",
       "      <td>0.78803</td>\n",
       "      <td>0.687649</td>\n",
       "      <td>0.424125</td>\n",
       "      <td>0.762511</td>\n",
       "      <td>0.492832</td>\n",
       "    </tr>\n",
       "    <tr>\n",
       "      <th>1523</th>\n",
       "      <td>0.002087</td>\n",
       "      <td>0.761261</td>\n",
       "      <td>0.69342</td>\n",
       "      <td>0.388132</td>\n",
       "      <td>0.721674</td>\n",
       "      <td>0.393576</td>\n",
       "    </tr>\n",
       "  </tbody>\n",
       "</table>\n",
       "</div>"
      ],
      "text/plain": [
       "          Date Local Route Light Rail Peak Service Rapid Route    School\n",
       "1013       0.0    0.758745   0.655612     0.394942    0.740017  0.511993\n",
       "1120  0.000522    0.801842   0.701645     0.396887    0.757175  0.550317\n",
       "1451  0.001043    0.788457   0.701778     0.414397    0.767986  0.501379\n",
       "1171  0.001565     0.78803   0.687649     0.424125    0.762511  0.492832\n",
       "1523  0.002087    0.761261    0.69342     0.388132    0.721674  0.393576"
      ]
     },
     "execution_count": 80,
     "metadata": {},
     "output_type": "execute_result"
    }
   ],
   "source": [
    "df_norm.head()"
   ]
  },
  {
   "cell_type": "code",
   "execution_count": 81,
   "metadata": {},
   "outputs": [
    {
     "data": {
      "text/plain": [
       "Date            0\n",
       "Local Route     0\n",
       "Light Rail      0\n",
       "Peak Service    0\n",
       "Rapid Route     0\n",
       "School          0\n",
       "dtype: int64"
      ]
     },
     "execution_count": 81,
     "metadata": {},
     "output_type": "execute_result"
    }
   ],
   "source": [
    "df_norm.isnull().sum()"
   ]
  },
  {
   "cell_type": "markdown",
   "metadata": {},
   "source": [
    "EDA"
   ]
  },
  {
   "cell_type": "markdown",
   "metadata": {},
   "source": [
    "Univariate"
   ]
  },
  {
   "cell_type": "code",
   "execution_count": 89,
   "metadata": {},
   "outputs": [
    {
     "data": {
      "image/png": "[encoded data removed]",
      "text/plain": [
       "<Figure size 200x200 with 1 Axes>"
      ]
     },
     "metadata": {},
     "output_type": "display_data"
    }
   ],
   "source": [
    "fig= plt.subplots(1,1, figsize=(2,2))\n",
    "plt.suptitle(\"univariate analysis 1\", size=(5))\n",
    "\n",
    "sns.countplot (x='Light Rail', data=df_norm, color='blue', order=df_norm['Light Rail'].value_counts().index)\n",
    "plt.show()\n"
   ]
  },
  {
   "cell_type": "markdown",
   "metadata": {},
   "source": [
    "Bivariate"
   ]
  },
  {
   "cell_type": "code",
   "execution_count": 111,
   "metadata": {},
   "outputs": [
    {
     "name": "stderr",
     "output_type": "stream",
     "text": [
      "No artists with labels found to put in legend.  Note that artists whose label start with an underscore are ignored when legend() is called with no argument.\n"
     ]
    },
    {
     "data": {
      "image/png": "[encoded data removed]",
      "text/plain": [
       "<Figure size 1000x500 with 1 Axes>"
      ]
     },
     "metadata": {},
     "output_type": "display_data"
    }
   ],
   "source": [
    "plt.figure(figsize=(10, 5))\n",
    "sns.lineplot(x='Local Route', y='School', data=df_norm)\n",
    "plt.title('Bivariate Analysis: Trends Over Time')\n",
    "plt.xlabel('Local Route')\n",
    "plt.ylabel('School')\n",
    "plt.legend()\n",
    "plt.xticks(rotation=45)\n",
    "plt.show()\n"
   ]
  },
  {
   "cell_type": "markdown",
   "metadata": {},
   "source": [
    "INSIGHTS:\n",
    "\n",
    "1. When the range of Local Route is 1.0, the School also has the same range of traffic\n",
    "2. When the range in Local Route between 0.0 and 0.2, the range of School is between 0.6 to 1.0 which says that at this point the traffic is huge in the School Route"
   ]
  },
  {
   "cell_type": "markdown",
   "metadata": {},
   "source": [
    "Multivariate"
   ]
  },
  {
   "cell_type": "code",
   "execution_count": 102,
   "metadata": {},
   "outputs": [
    {
     "data": {
      "image/png": "[encoded data removed]",
      "text/plain": [
       "<Figure size 500x500 with 2 Axes>"
      ]
     },
     "metadata": {},
     "output_type": "display_data"
    }
   ],
   "source": [
    "plt.figure(figsize=(5,5))\n",
    "c_matrix = df_norm.drop(columns='Date').corr()\n",
    "sns.heatmap(c_matrix, annot=True, cmap='Purples')\n",
    "plt.show()"
   ]
  },
  {
   "cell_type": "markdown",
   "metadata": {},
   "source": [
    "INSIGHTS:\n",
    "\n",
    "1. Light Rail is correlated with Rapid Route by 97%\n",
    "2. Local Route is correlated with Rapid Route by 97%\n",
    "3. Light Rail and Local Route are less correlated with School by 5%"
   ]
  },
  {
   "cell_type": "markdown",
   "metadata": {},
   "source": [
    "MODEL BUILDING"
   ]
  },
  {
   "cell_type": "code",
   "execution_count": 112,
   "metadata": {},
   "outputs": [],
   "source": [
    "import keras\n",
    "import tensorflow as tf"
   ]
  },
  {
   "cell_type": "code",
   "execution_count": 113,
   "metadata": {},
   "outputs": [],
   "source": [
    "split_percent = 0.80\n",
    "split = int(split_percent*100)"
   ]
  },
  {
   "cell_type": "code",
   "execution_count": 114,
   "metadata": {},
   "outputs": [],
   "source": [
    "X_train = df_norm['Date'][:split]\n",
    "X_test = df_norm['Date'][split:]\n",
    "\n",
    "y_train = df_norm['School'][:split]\n",
    "y_test = df_norm['School'][split:]\n",
    "\n"
   ]
  },
  {
   "cell_type": "code",
   "execution_count": null,
   "metadata": {},
   "outputs": [
    {
     "name": "stdout",
     "output_type": "stream",
     "text": [
      "80\n"
     ]
    }
   ],
   "source": [
    "print(len(X_train))\n"
   ]
  },
  {
   "cell_type": "code",
   "execution_count": 119,
   "metadata": {},
   "outputs": [
    {
     "name": "stdout",
     "output_type": "stream",
     "text": [
      "80\n"
     ]
    }
   ],
   "source": [
    "print(len(y_train))"
   ]
  },
  {
   "cell_type": "code",
   "execution_count": 141,
   "metadata": {},
   "outputs": [],
   "source": [
    "import pandas as pd\n",
    "import numpy as np\n",
    "from sklearn.preprocessing import MinMaxScaler\n",
    "from tensorflow.keras.models import Sequential\n",
    "from tensorflow.keras.layers import LSTM, Dense\n",
    "from tensorflow.keras.optimizers import Adam\n"
   ]
  },
  {
   "cell_type": "code",
   "execution_count": 142,
   "metadata": {},
   "outputs": [],
   "source": [
    "data_using = df_norm"
   ]
  },
  {
   "cell_type": "code",
   "execution_count": 148,
   "metadata": {},
   "outputs": [
    {
     "ename": "KeyError",
     "evalue": "'Date'",
     "output_type": "error",
     "traceback": [
      "\u001b[1;31m---------------------------------------------------------------------------\u001b[0m",
      "\u001b[1;31mKeyError\u001b[0m                                  Traceback (most recent call last)",
      "File \u001b[1;32mc:\\Users\\HP\\AppData\\Local\\Programs\\Python\\Python311\\Lib\\site-packages\\pandas\\core\\indexes\\base.py:3805\u001b[0m, in \u001b[0;36mIndex.get_loc\u001b[1;34m(self, key)\u001b[0m\n\u001b[0;32m   3804\u001b[0m \u001b[38;5;28;01mtry\u001b[39;00m:\n\u001b[1;32m-> 3805\u001b[0m     \u001b[38;5;28;01mreturn\u001b[39;00m \u001b[38;5;28;43mself\u001b[39;49m\u001b[38;5;241;43m.\u001b[39;49m\u001b[43m_engine\u001b[49m\u001b[38;5;241;43m.\u001b[39;49m\u001b[43mget_loc\u001b[49m\u001b[43m(\u001b[49m\u001b[43mcasted_key\u001b[49m\u001b[43m)\u001b[49m\n\u001b[0;32m   3806\u001b[0m \u001b[38;5;28;01mexcept\u001b[39;00m \u001b[38;5;167;01mKeyError\u001b[39;00m \u001b[38;5;28;01mas\u001b[39;00m err:\n",
      "File \u001b[1;32mindex.pyx:167\u001b[0m, in \u001b[0;36mpandas._libs.index.IndexEngine.get_loc\u001b[1;34m()\u001b[0m\n",
      "File \u001b[1;32mindex.pyx:196\u001b[0m, in \u001b[0;36mpandas._libs.index.IndexEngine.get_loc\u001b[1;34m()\u001b[0m\n",
      "File \u001b[1;32mpandas\\\\_libs\\\\hashtable_class_helper.pxi:7081\u001b[0m, in \u001b[0;36mpandas._libs.hashtable.PyObjectHashTable.get_item\u001b[1;34m()\u001b[0m\n",
      "File \u001b[1;32mpandas\\\\_libs\\\\hashtable_class_helper.pxi:7089\u001b[0m, in \u001b[0;36mpandas._libs.hashtable.PyObjectHashTable.get_item\u001b[1;34m()\u001b[0m\n",
      "\u001b[1;31mKeyError\u001b[0m: 'Date'",
      "\nThe above exception was the direct cause of the following exception:\n",
      "\u001b[1;31mKeyError\u001b[0m                                  Traceback (most recent call last)",
      "Cell \u001b[1;32mIn[148], line 1\u001b[0m\n\u001b[1;32m----> 1\u001b[0m data_using[\u001b[38;5;124m'\u001b[39m\u001b[38;5;124mDate\u001b[39m\u001b[38;5;124m'\u001b[39m] \u001b[38;5;241m=\u001b[39m pd\u001b[38;5;241m.\u001b[39mto_datetime(\u001b[43mdata_using\u001b[49m\u001b[43m[\u001b[49m\u001b[38;5;124;43m'\u001b[39;49m\u001b[38;5;124;43mDate\u001b[39;49m\u001b[38;5;124;43m'\u001b[39;49m\u001b[43m]\u001b[49m)\n\u001b[0;32m      2\u001b[0m data_using\u001b[38;5;241m.\u001b[39mset_index(\u001b[38;5;124m'\u001b[39m\u001b[38;5;124mDate\u001b[39m\u001b[38;5;124m'\u001b[39m, inplace\u001b[38;5;241m=\u001b[39m\u001b[38;5;28;01mTrue\u001b[39;00m)\n\u001b[0;32m      3\u001b[0m features \u001b[38;5;241m=\u001b[39m data_using[\u001b[38;5;124m'\u001b[39m\u001b[38;5;124mLocal Route\u001b[39m\u001b[38;5;124m'\u001b[39m, \u001b[38;5;124m'\u001b[39m\u001b[38;5;124mLight Rail\u001b[39m\u001b[38;5;124m'\u001b[39m, \u001b[38;5;124m'\u001b[39m\u001b[38;5;124mPeak Service\u001b[39m\u001b[38;5;124m'\u001b[39m, \u001b[38;5;124m'\u001b[39m\u001b[38;5;124mRapid Route\u001b[39m\u001b[38;5;124m'\u001b[39m, \u001b[38;5;124m'\u001b[39m\u001b[38;5;124mSchool\u001b[39m\u001b[38;5;124m'\u001b[39m]\n",
      "File \u001b[1;32mc:\\Users\\HP\\AppData\\Local\\Programs\\Python\\Python311\\Lib\\site-packages\\pandas\\core\\frame.py:4102\u001b[0m, in \u001b[0;36mDataFrame.__getitem__\u001b[1;34m(self, key)\u001b[0m\n\u001b[0;32m   4100\u001b[0m \u001b[38;5;28;01mif\u001b[39;00m \u001b[38;5;28mself\u001b[39m\u001b[38;5;241m.\u001b[39mcolumns\u001b[38;5;241m.\u001b[39mnlevels \u001b[38;5;241m>\u001b[39m \u001b[38;5;241m1\u001b[39m:\n\u001b[0;32m   4101\u001b[0m     \u001b[38;5;28;01mreturn\u001b[39;00m \u001b[38;5;28mself\u001b[39m\u001b[38;5;241m.\u001b[39m_getitem_multilevel(key)\n\u001b[1;32m-> 4102\u001b[0m indexer \u001b[38;5;241m=\u001b[39m \u001b[38;5;28;43mself\u001b[39;49m\u001b[38;5;241;43m.\u001b[39;49m\u001b[43mcolumns\u001b[49m\u001b[38;5;241;43m.\u001b[39;49m\u001b[43mget_loc\u001b[49m\u001b[43m(\u001b[49m\u001b[43mkey\u001b[49m\u001b[43m)\u001b[49m\n\u001b[0;32m   4103\u001b[0m \u001b[38;5;28;01mif\u001b[39;00m is_integer(indexer):\n\u001b[0;32m   4104\u001b[0m     indexer \u001b[38;5;241m=\u001b[39m [indexer]\n",
      "File \u001b[1;32mc:\\Users\\HP\\AppData\\Local\\Programs\\Python\\Python311\\Lib\\site-packages\\pandas\\core\\indexes\\base.py:3812\u001b[0m, in \u001b[0;36mIndex.get_loc\u001b[1;34m(self, key)\u001b[0m\n\u001b[0;32m   3807\u001b[0m     \u001b[38;5;28;01mif\u001b[39;00m \u001b[38;5;28misinstance\u001b[39m(casted_key, \u001b[38;5;28mslice\u001b[39m) \u001b[38;5;129;01mor\u001b[39;00m (\n\u001b[0;32m   3808\u001b[0m         \u001b[38;5;28misinstance\u001b[39m(casted_key, abc\u001b[38;5;241m.\u001b[39mIterable)\n\u001b[0;32m   3809\u001b[0m         \u001b[38;5;129;01mand\u001b[39;00m \u001b[38;5;28many\u001b[39m(\u001b[38;5;28misinstance\u001b[39m(x, \u001b[38;5;28mslice\u001b[39m) \u001b[38;5;28;01mfor\u001b[39;00m x \u001b[38;5;129;01min\u001b[39;00m casted_key)\n\u001b[0;32m   3810\u001b[0m     ):\n\u001b[0;32m   3811\u001b[0m         \u001b[38;5;28;01mraise\u001b[39;00m InvalidIndexError(key)\n\u001b[1;32m-> 3812\u001b[0m     \u001b[38;5;28;01mraise\u001b[39;00m \u001b[38;5;167;01mKeyError\u001b[39;00m(key) \u001b[38;5;28;01mfrom\u001b[39;00m \u001b[38;5;21;01merr\u001b[39;00m\n\u001b[0;32m   3813\u001b[0m \u001b[38;5;28;01mexcept\u001b[39;00m \u001b[38;5;167;01mTypeError\u001b[39;00m:\n\u001b[0;32m   3814\u001b[0m     \u001b[38;5;66;03m# If we have a listlike key, _check_indexing_error will raise\u001b[39;00m\n\u001b[0;32m   3815\u001b[0m     \u001b[38;5;66;03m#  InvalidIndexError. Otherwise we fall through and re-raise\u001b[39;00m\n\u001b[0;32m   3816\u001b[0m     \u001b[38;5;66;03m#  the TypeError.\u001b[39;00m\n\u001b[0;32m   3817\u001b[0m     \u001b[38;5;28mself\u001b[39m\u001b[38;5;241m.\u001b[39m_check_indexing_error(key)\n",
      "\u001b[1;31mKeyError\u001b[0m: 'Date'"
     ]
    }
   ],
   "source": [
    "\n",
    "data_using['Date'] = pd.to_datetime(data_using['Date'])\n",
    "data_using.set_index('Date', inplace=True)\n",
    "features = data_using['Local Route', 'Light Rail', 'Peak Service', 'Rapid Route', 'School']\n",
    "X=[]\n",
    "y=[]\n",
    "X.append(data_using['Date'])\n",
    "y.append(features)  \n",
    "    \n",
    "\n",
    "\n"
   ]
  },
  {
   "cell_type": "code",
   "execution_count": null,
   "metadata": {},
   "outputs": [],
   "source": []
  }
 ],
 "metadata": {
  "kernelspec": {
   "display_name": "Python 3",
   "language": "python",
   "name": "python3"
  },
  "language_info": {
   "codemirror_mode": {
    "name": "ipython",
    "version": 3
   },
   "file_extension": ".py",
   "mimetype": "text/x-python",
   "name": "python",
   "nbconvert_exporter": "python",
   "pygments_lexer": "ipython3",
   "version": "3.11.5"
  }
 },
 "nbformat": 4,
 "nbformat_minor": 2
}
